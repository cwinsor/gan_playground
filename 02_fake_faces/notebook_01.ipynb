{
 "cells": [
  {
   "cell_type": "markdown",
   "id": "10467991",
   "metadata": {},
   "source": [
    "# Fake Faces with DCGANs (deep convolutional GANs)\n",
    "From https://www.kaggle.com/code/sayakdasgupta/fake-faces-with-dcgans\n",
    "\n",
    "Dataset\n",
    "from http://mmlab.ie.cuhk.edu.hk/projects/CelebA.html\n",
    "and https://liuziwei7.github.io/projects/FaceAttributes.html"
   ]
  },
  {
   "cell_type": "markdown",
   "id": "8d48f34d",
   "metadata": {},
   "source": [
    "Generative adversarial networks (GANs) are algorithmic architectures that use two neural networks, pitting one against the other (thus the “adversarial”) \n",
    "\n",
    "(blah blah blah)"
   ]
  },
  {
   "cell_type": "code",
   "execution_count": 5,
   "id": "90e0c8da",
   "metadata": {},
   "outputs": [],
   "source": [
    "import numpy as np # linear algebra\n",
    "import pandas as pd # data processing, CSV file I/O (e.g. pd.read_csv)"
   ]
  },
  {
   "cell_type": "code",
   "execution_count": 8,
   "id": "a2168a78",
   "metadata": {},
   "outputs": [],
   "source": [
    "# Input data files are available in the \"../input/\" directory.\n",
    "# For example, running this (by clicking run or pressing Shift+Enter) will list all files under the input directory\n",
    "\n",
    "import os\n",
    "# for dirname, _, filenames in os.walk('./kaggle/input'):\n",
    "for dirname, _, filenames in os.walk('D:\\code_gan\\dataset_faces\\img_align_celeba\\img_align_celeba'):\n",
    "\n",
    "    for filename in filenames:\n",
    "        x = 0 # do nothing...\n",
    "        # print(os.path.join(dirname, filename))\n",
    "\n",
    "# Any results you write to the current directory are saved as output."
   ]
  },
  {
   "cell_type": "markdown",
   "id": "a501156b",
   "metadata": {},
   "source": [
    "### Loading and Preprocessing data"
   ]
  },
  {
   "cell_type": "code",
   "execution_count": 9,
   "id": "7cc6fe1d",
   "metadata": {},
   "outputs": [],
   "source": [
    "from PIL import Image\n",
    "import matplotlib.pyplot as plt\n",
    "import os\n",
    "from keras import preprocessing\n",
    "from keras.models import Sequential\n",
    "from keras.layers import Conv2D,Dropout,Dense,Flatten,Conv2DTranspose,BatchNormalization,LeakyReLU,Reshape\n",
    "import tensorflow as tf"
   ]
  },
  {
   "cell_type": "markdown",
   "id": "86dbb0c6",
   "metadata": {},
   "source": [
    "Using TensorFlow backend."
   ]
  },
  {
   "cell_type": "code",
   "execution_count": null,
   "id": "47f62e8d",
   "metadata": {},
   "outputs": [],
   "source": []
  }
 ],
 "metadata": {
  "kernelspec": {
   "display_name": "Python 3 (ipykernel)",
   "language": "python",
   "name": "python3"
  },
  "language_info": {
   "codemirror_mode": {
    "name": "ipython",
    "version": 3
   },
   "file_extension": ".py",
   "mimetype": "text/x-python",
   "name": "python",
   "nbconvert_exporter": "python",
   "pygments_lexer": "ipython3",
   "version": "3.9.12"
  }
 },
 "nbformat": 4,
 "nbformat_minor": 5
}
